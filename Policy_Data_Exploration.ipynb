{
 "cells": [
  {
   "cell_type": "markdown",
   "metadata": {},
   "source": [
    "# Data Exploration\n",
    "Since the data dictionary given isnt much to go on, just some data exploration, deductions and inferences have to be made first."
   ]
  },
  {
   "cell_type": "markdown",
   "metadata": {},
   "source": [
    "### Problem Statement:  \n",
    "The aim is to provide a report of the following indicators: Gross Written Premium cancelled and Gross Written Premium booked. Both indicators will have to be broken down by month and line of business (LOB).\n",
    "\n",
    "Note that this report should be run automatically every end of the calendar month. You should not have to specify in the code which month to update: at every end of month, the report needs to show the current year figures (up to the current month) and last year for the same time period.\n"
   ]
  },
  {
   "cell_type": "markdown",
   "metadata": {},
   "source": [
    "Definition:\n",
    "\n",
    "Gross Written Premiums (GWP) GWP is an industry measure of the life insurance premiums due and the general insurance premiums underwritten in the reporting period, before any deductions for reinsurance."
   ]
  },
  {
   "cell_type": "markdown",
   "metadata": {},
   "source": [
    "-          YrM: transaction year and month under format YYYYMM\n",
    "-          CHDRNUM: policy number\n",
    "-          TRANNO: transaction number"
   ]
  },
  {
   "cell_type": "code",
   "execution_count": 1,
   "metadata": {},
   "outputs": [],
   "source": [
    "import pandas as pd\n",
    "import numpy as np\n",
    "from datetime import datetime"
   ]
  },
  {
   "cell_type": "code",
   "execution_count": 2,
   "metadata": {},
   "outputs": [],
   "source": [
    "##importing the xlsx and reading the sheets into dataframes\n",
    "xls = pd.ExcelFile('PREMIUM_POLICY_DATA.xlsx')\n",
    "policy = pd.read_excel(xls, 'POLICY')\n",
    "premium = pd.read_excel(xls, 'PREMIUM')"
   ]
  },
  {
   "cell_type": "code",
   "execution_count": 3,
   "metadata": {},
   "outputs": [
    {
     "data": {
      "text/html": [
       "<div>\n",
       "<style scoped>\n",
       "    .dataframe tbody tr th:only-of-type {\n",
       "        vertical-align: middle;\n",
       "    }\n",
       "\n",
       "    .dataframe tbody tr th {\n",
       "        vertical-align: top;\n",
       "    }\n",
       "\n",
       "    .dataframe thead th {\n",
       "        text-align: right;\n",
       "    }\n",
       "</style>\n",
       "<table border=\"1\" class=\"dataframe\">\n",
       "  <thead>\n",
       "    <tr style=\"text-align: right;\">\n",
       "      <th></th>\n",
       "      <th>CHDRNUM</th>\n",
       "      <th>lob</th>\n",
       "      <th>CNTTYPE</th>\n",
       "      <th>FUNDCODE</th>\n",
       "      <th>ACSTYP</th>\n",
       "      <th>D_latestexpiry</th>\n",
       "    </tr>\n",
       "  </thead>\n",
       "  <tbody>\n",
       "    <tr>\n",
       "      <th>0</th>\n",
       "      <td>10201150</td>\n",
       "      <td>017-Travel</td>\n",
       "      <td>ATP</td>\n",
       "      <td>L</td>\n",
       "      <td>NO</td>\n",
       "      <td>2021-09-30</td>\n",
       "    </tr>\n",
       "    <tr>\n",
       "      <th>1</th>\n",
       "      <td>10201150</td>\n",
       "      <td>017-Travel</td>\n",
       "      <td>ATP</td>\n",
       "      <td>L</td>\n",
       "      <td>NO</td>\n",
       "      <td>2021-09-30</td>\n",
       "    </tr>\n",
       "    <tr>\n",
       "      <th>2</th>\n",
       "      <td>10201150</td>\n",
       "      <td>017-Travel</td>\n",
       "      <td>ATP</td>\n",
       "      <td>L</td>\n",
       "      <td>NO</td>\n",
       "      <td>2021-09-30</td>\n",
       "    </tr>\n",
       "    <tr>\n",
       "      <th>3</th>\n",
       "      <td>10201150</td>\n",
       "      <td>017-Travel</td>\n",
       "      <td>ATP</td>\n",
       "      <td>L</td>\n",
       "      <td>NO</td>\n",
       "      <td>2021-09-30</td>\n",
       "    </tr>\n",
       "    <tr>\n",
       "      <th>4</th>\n",
       "      <td>10201150</td>\n",
       "      <td>017-Travel</td>\n",
       "      <td>ATP</td>\n",
       "      <td>L</td>\n",
       "      <td>NO</td>\n",
       "      <td>2021-09-30</td>\n",
       "    </tr>\n",
       "  </tbody>\n",
       "</table>\n",
       "</div>"
      ],
      "text/plain": [
       "    CHDRNUM         lob CNTTYPE FUNDCODE ACSTYP D_latestexpiry\n",
       "0  10201150  017-Travel     ATP        L     NO     2021-09-30\n",
       "1  10201150  017-Travel     ATP        L     NO     2021-09-30\n",
       "2  10201150  017-Travel     ATP        L     NO     2021-09-30\n",
       "3  10201150  017-Travel     ATP        L     NO     2021-09-30\n",
       "4  10201150  017-Travel     ATP        L     NO     2021-09-30"
      ]
     },
     "execution_count": 3,
     "metadata": {},
     "output_type": "execute_result"
    }
   ],
   "source": [
    "#Quick look at the policy table\n",
    "policy.head()"
   ]
  },
  {
   "cell_type": "code",
   "execution_count": 4,
   "metadata": {},
   "outputs": [
    {
     "data": {
      "text/html": [
       "<div>\n",
       "<style scoped>\n",
       "    .dataframe tbody tr th:only-of-type {\n",
       "        vertical-align: middle;\n",
       "    }\n",
       "\n",
       "    .dataframe tbody tr th {\n",
       "        vertical-align: top;\n",
       "    }\n",
       "\n",
       "    .dataframe thead th {\n",
       "        text-align: right;\n",
       "    }\n",
       "</style>\n",
       "<table border=\"1\" class=\"dataframe\">\n",
       "  <thead>\n",
       "    <tr style=\"text-align: right;\">\n",
       "      <th></th>\n",
       "      <th>CHDRNUM</th>\n",
       "      <th>TRANNO</th>\n",
       "      <th>AGENTID</th>\n",
       "      <th>YrM</th>\n",
       "      <th>D_tran</th>\n",
       "      <th>D_eff</th>\n",
       "      <th>D_com</th>\n",
       "      <th>D_exp</th>\n",
       "      <th>TRANTYPE</th>\n",
       "      <th>FINANCIAL</th>\n",
       "      <th>GWP</th>\n",
       "    </tr>\n",
       "  </thead>\n",
       "  <tbody>\n",
       "    <tr>\n",
       "      <th>0</th>\n",
       "      <td>10201150</td>\n",
       "      <td>1897</td>\n",
       "      <td>86</td>\n",
       "      <td>201912</td>\n",
       "      <td>2019-12-20</td>\n",
       "      <td>2019-11-03</td>\n",
       "      <td>2019-10-01</td>\n",
       "      <td>2020-09-30</td>\n",
       "      <td>ENDO</td>\n",
       "      <td>YES</td>\n",
       "      <td>0.0</td>\n",
       "    </tr>\n",
       "    <tr>\n",
       "      <th>1</th>\n",
       "      <td>10201150</td>\n",
       "      <td>1898</td>\n",
       "      <td>86</td>\n",
       "      <td>201912</td>\n",
       "      <td>2019-12-26</td>\n",
       "      <td>2019-12-15</td>\n",
       "      <td>2019-10-01</td>\n",
       "      <td>2020-09-30</td>\n",
       "      <td>ENDO</td>\n",
       "      <td>YES</td>\n",
       "      <td>149.9</td>\n",
       "    </tr>\n",
       "    <tr>\n",
       "      <th>2</th>\n",
       "      <td>10201150</td>\n",
       "      <td>1899</td>\n",
       "      <td>86</td>\n",
       "      <td>201912</td>\n",
       "      <td>2019-12-28</td>\n",
       "      <td>2019-10-12</td>\n",
       "      <td>2019-10-01</td>\n",
       "      <td>2020-09-30</td>\n",
       "      <td>ENDO</td>\n",
       "      <td>YES</td>\n",
       "      <td>87.1</td>\n",
       "    </tr>\n",
       "    <tr>\n",
       "      <th>3</th>\n",
       "      <td>10201150</td>\n",
       "      <td>1900</td>\n",
       "      <td>86</td>\n",
       "      <td>201912</td>\n",
       "      <td>2019-12-28</td>\n",
       "      <td>2019-10-12</td>\n",
       "      <td>2019-10-01</td>\n",
       "      <td>2020-09-30</td>\n",
       "      <td>ENDO</td>\n",
       "      <td>YES</td>\n",
       "      <td>-89.7</td>\n",
       "    </tr>\n",
       "    <tr>\n",
       "      <th>4</th>\n",
       "      <td>10201150</td>\n",
       "      <td>1901</td>\n",
       "      <td>86</td>\n",
       "      <td>201912</td>\n",
       "      <td>2019-12-28</td>\n",
       "      <td>2019-09-29</td>\n",
       "      <td>2018-10-01</td>\n",
       "      <td>2019-09-30</td>\n",
       "      <td>ENDO</td>\n",
       "      <td>YES</td>\n",
       "      <td>30.0</td>\n",
       "    </tr>\n",
       "  </tbody>\n",
       "</table>\n",
       "</div>"
      ],
      "text/plain": [
       "    CHDRNUM  TRANNO  AGENTID     YrM     D_tran      D_eff      D_com  \\\n",
       "0  10201150    1897       86  201912 2019-12-20 2019-11-03 2019-10-01   \n",
       "1  10201150    1898       86  201912 2019-12-26 2019-12-15 2019-10-01   \n",
       "2  10201150    1899       86  201912 2019-12-28 2019-10-12 2019-10-01   \n",
       "3  10201150    1900       86  201912 2019-12-28 2019-10-12 2019-10-01   \n",
       "4  10201150    1901       86  201912 2019-12-28 2019-09-29 2018-10-01   \n",
       "\n",
       "       D_exp TRANTYPE FINANCIAL    GWP  \n",
       "0 2020-09-30     ENDO       YES    0.0  \n",
       "1 2020-09-30     ENDO       YES  149.9  \n",
       "2 2020-09-30     ENDO       YES   87.1  \n",
       "3 2020-09-30     ENDO       YES  -89.7  \n",
       "4 2019-09-30     ENDO       YES   30.0  "
      ]
     },
     "execution_count": 4,
     "metadata": {},
     "output_type": "execute_result"
    }
   ],
   "source": [
    "#Quick look at the premium table\n",
    "premium.head()"
   ]
  },
  {
   "cell_type": "code",
   "execution_count": 5,
   "metadata": {},
   "outputs": [
    {
     "data": {
      "text/plain": [
       "(28398, 6)"
      ]
     },
     "execution_count": 5,
     "metadata": {},
     "output_type": "execute_result"
    }
   ],
   "source": [
    "#Checking the Shape of the table\n",
    "policy.shape"
   ]
  },
  {
   "cell_type": "code",
   "execution_count": 6,
   "metadata": {},
   "outputs": [
    {
     "data": {
      "text/plain": [
       "(28398, 11)"
      ]
     },
     "execution_count": 6,
     "metadata": {},
     "output_type": "execute_result"
    }
   ],
   "source": [
    "#Length of table happens to be the same\n",
    "premium.shape"
   ]
  },
  {
   "cell_type": "markdown",
   "metadata": {},
   "source": [
    "After a quick look through the xlsx, it can be ntoed that the indexes are exactly the same and as such the tables can be combined for easier exploration."
   ]
  },
  {
   "cell_type": "code",
   "execution_count": 7,
   "metadata": {},
   "outputs": [],
   "source": [
    "#concatenation works best as the column of policy numbers are alphanumeric\n",
    "data = pd.concat([policy, premium], axis=1, sort=False)"
   ]
  },
  {
   "cell_type": "code",
   "execution_count": 8,
   "metadata": {},
   "outputs": [
    {
     "data": {
      "text/plain": [
       "(28398, 17)"
      ]
     },
     "execution_count": 8,
     "metadata": {},
     "output_type": "execute_result"
    }
   ],
   "source": [
    "#checking to see if it was successful\n",
    "data.shape"
   ]
  },
  {
   "cell_type": "code",
   "execution_count": 9,
   "metadata": {},
   "outputs": [
    {
     "data": {
      "text/plain": [
       "['CHDRNUM',\n",
       " 'lob',\n",
       " 'CNTTYPE',\n",
       " 'FUNDCODE',\n",
       " 'ACSTYP',\n",
       " 'D_latestexpiry',\n",
       " 'CHDRNUM',\n",
       " 'TRANNO',\n",
       " 'AGENTID',\n",
       " 'YrM',\n",
       " 'D_tran',\n",
       " 'D_eff',\n",
       " 'D_com',\n",
       " 'D_exp',\n",
       " 'TRANTYPE',\n",
       " 'FINANCIAL',\n",
       " 'GWP']"
      ]
     },
     "execution_count": 9,
     "metadata": {},
     "output_type": "execute_result"
    }
   ],
   "source": [
    "#Column names check\n",
    "data.columns.tolist()"
   ]
  },
  {
   "cell_type": "code",
   "execution_count": 10,
   "metadata": {},
   "outputs": [],
   "source": [
    "#extracting what deems to be necessary\n",
    "impt = data[['CHDRNUM',\n",
    " 'lob',\n",
    " 'D_latestexpiry',\n",
    " 'TRANNO',\n",
    " 'YrM',\n",
    " 'D_tran',\n",
    " 'D_eff',\n",
    " 'D_com',\n",
    " 'D_exp',\n",
    "'TRANTYPE',\n",
    " 'GWP']]"
   ]
  },
  {
   "cell_type": "code",
   "execution_count": 11,
   "metadata": {},
   "outputs": [
    {
     "data": {
      "text/plain": [
       "Index(['CHDRNUM', 'CHDRNUM', 'lob', 'D_latestexpiry', 'TRANNO', 'YrM',\n",
       "       'D_tran', 'D_eff', 'D_com', 'D_exp', 'TRANTYPE', 'GWP'],\n",
       "      dtype='object')"
      ]
     },
     "execution_count": 11,
     "metadata": {},
     "output_type": "execute_result"
    }
   ],
   "source": [
    "#column names\n",
    "impt.columns"
   ]
  },
  {
   "cell_type": "code",
   "execution_count": 12,
   "metadata": {},
   "outputs": [],
   "source": [
    "#Policy Number appeared twice therefore one of them can be renamed and dropped.\n",
    "#It shouldnt be used as an index as the policy number is not unique per entry\n",
    "impt.columns = ['CHDRNUM', '2', 'lob', 'D_latestexpiry', 'TRANNO', 'YrM',\n",
    "       'D_tran', 'D_eff', 'D_com', 'D_exp','TRANTYPE', 'GWP']"
   ]
  },
  {
   "cell_type": "code",
   "execution_count": 13,
   "metadata": {},
   "outputs": [],
   "source": [
    "#dropping the extra policy column\n",
    "impt=impt[['CHDRNUM',\n",
    " 'lob',\n",
    " 'D_latestexpiry',\n",
    " 'TRANNO',\n",
    " 'YrM',\n",
    " 'D_tran',\n",
    " 'D_eff',\n",
    " 'D_com',\n",
    " 'D_exp',\n",
    "'TRANTYPE',\n",
    " 'GWP']]"
   ]
  },
  {
   "cell_type": "code",
   "execution_count": 14,
   "metadata": {},
   "outputs": [
    {
     "data": {
      "text/plain": [
       "(28398, 11)"
      ]
     },
     "execution_count": 14,
     "metadata": {},
     "output_type": "execute_result"
    }
   ],
   "source": [
    "#checking if the shape is still alright, with no loss in rows\n",
    "impt.shape"
   ]
  },
  {
   "cell_type": "code",
   "execution_count": 15,
   "metadata": {},
   "outputs": [
    {
     "data": {
      "text/plain": [
       "array(['ENDO', 'RNWL', 'CANC', 'NWBS', 'REIN'], dtype=object)"
      ]
     },
     "execution_count": 15,
     "metadata": {},
     "output_type": "execute_result"
    }
   ],
   "source": [
    "#identfying the different types of transactions\n",
    "impt['TRANTYPE'].unique()"
   ]
  },
  {
   "cell_type": "code",
   "execution_count": 16,
   "metadata": {},
   "outputs": [
    {
     "data": {
      "text/plain": [
       "array(['ENDO', 'CANC'], dtype=object)"
      ]
     },
     "execution_count": 16,
     "metadata": {},
     "output_type": "execute_result"
    }
   ],
   "source": [
    "#since there are 0 and negative values, filtering all negative values in the dataframe\n",
    "filtered = impt[impt['GWP']<0]\n",
    "#transaction types that are negative\n",
    "filtered['TRANTYPE'].unique()"
   ]
  },
  {
   "cell_type": "code",
   "execution_count": 17,
   "metadata": {},
   "outputs": [
    {
     "data": {
      "text/plain": [
       "array(['ENDO', 'RNWL', 'CANC', 'REIN', 'NWBS'], dtype=object)"
      ]
     },
     "execution_count": 17,
     "metadata": {},
     "output_type": "execute_result"
    }
   ],
   "source": [
    "#transaction types that have 0 GWP\n",
    "zero = impt[impt['GWP']==0]\n",
    "zero['TRANTYPE'].unique()"
   ]
  },
  {
   "cell_type": "markdown",
   "metadata": {},
   "source": [
    "Only Endo and Canc have GWP values that are negative"
   ]
  },
  {
   "cell_type": "code",
   "execution_count": 18,
   "metadata": {},
   "outputs": [
    {
     "data": {
      "text/html": [
       "<div>\n",
       "<style scoped>\n",
       "    .dataframe tbody tr th:only-of-type {\n",
       "        vertical-align: middle;\n",
       "    }\n",
       "\n",
       "    .dataframe tbody tr th {\n",
       "        vertical-align: top;\n",
       "    }\n",
       "\n",
       "    .dataframe thead th {\n",
       "        text-align: right;\n",
       "    }\n",
       "</style>\n",
       "<table border=\"1\" class=\"dataframe\">\n",
       "  <thead>\n",
       "    <tr style=\"text-align: right;\">\n",
       "      <th></th>\n",
       "      <th>CHDRNUM</th>\n",
       "      <th>lob</th>\n",
       "      <th>D_latestexpiry</th>\n",
       "      <th>TRANNO</th>\n",
       "      <th>YrM</th>\n",
       "      <th>D_tran</th>\n",
       "      <th>D_eff</th>\n",
       "      <th>D_com</th>\n",
       "      <th>D_exp</th>\n",
       "      <th>TRANTYPE</th>\n",
       "      <th>GWP</th>\n",
       "    </tr>\n",
       "  </thead>\n",
       "  <tbody>\n",
       "  </tbody>\n",
       "</table>\n",
       "</div>"
      ],
      "text/plain": [
       "Empty DataFrame\n",
       "Columns: [CHDRNUM, lob, D_latestexpiry, TRANNO, YrM, D_tran, D_eff, D_com, D_exp, TRANTYPE, GWP]\n",
       "Index: []"
      ]
     },
     "execution_count": 18,
     "metadata": {},
     "output_type": "execute_result"
    }
   ],
   "source": [
    "#ENDO type do have positive GWP right off the bat, filtering by CANC\n",
    "filtered_2 = impt[impt['TRANTYPE']=='CANC']\n",
    "#there are no positive GWP values for TRANTYPE = CANC\n",
    "filtered_2[filtered_2['GWP']>0]"
   ]
  },
  {
   "cell_type": "code",
   "execution_count": 19,
   "metadata": {},
   "outputs": [
    {
     "data": {
      "text/plain": [
       "(372, 11)"
      ]
     },
     "execution_count": 19,
     "metadata": {},
     "output_type": "execute_result"
    }
   ],
   "source": [
    "#There are 372 cancelled Transactions\n",
    "cancelled = impt[impt['TRANTYPE']=='CANC']\n",
    "cancelled.shape"
   ]
  },
  {
   "cell_type": "code",
   "execution_count": 20,
   "metadata": {},
   "outputs": [
    {
     "data": {
      "text/plain": [
       "0        201912\n",
       "24946    201912\n",
       "24945    201912\n",
       "24944    201912\n",
       "24943    201912\n",
       "          ...  \n",
       "3951     202002\n",
       "10579    202002\n",
       "10572    202002\n",
       "23064    202002\n",
       "28397    202002\n",
       "Name: YrM, Length: 28398, dtype: int64"
      ]
     },
     "execution_count": 20,
     "metadata": {},
     "output_type": "execute_result"
    }
   ],
   "source": [
    "impt['YrM'].sort_values(ascending=True)"
   ]
  },
  {
   "cell_type": "code",
   "execution_count": 21,
   "metadata": {},
   "outputs": [
    {
     "data": {
      "text/plain": [
       "0       2019-12-20\n",
       "23039   2019-12-20\n",
       "24863   2019-12-20\n",
       "24864   2019-12-20\n",
       "24865   2019-12-20\n",
       "           ...    \n",
       "24192   2020-02-26\n",
       "24193   2020-02-26\n",
       "24194   2020-02-26\n",
       "24180   2020-02-26\n",
       "28397   2020-02-26\n",
       "Name: D_tran, Length: 28398, dtype: datetime64[ns]"
      ]
     },
     "execution_count": 21,
     "metadata": {},
     "output_type": "execute_result"
    }
   ],
   "source": [
    "impt['D_tran'].sort_values(ascending=True)"
   ]
  },
  {
   "cell_type": "code",
   "execution_count": 22,
   "metadata": {},
   "outputs": [
    {
     "data": {
      "text/plain": [
       "1446    2016-05-01\n",
       "1447    2016-08-04\n",
       "1448    2017-08-04\n",
       "23991   2017-11-01\n",
       "23069   2017-11-01\n",
       "           ...    \n",
       "24715   2020-08-08\n",
       "24604   2020-09-16\n",
       "24667   2020-10-23\n",
       "24668   2020-10-23\n",
       "27334   2020-11-10\n",
       "Name: D_eff, Length: 28398, dtype: datetime64[ns]"
      ]
     },
     "execution_count": 22,
     "metadata": {},
     "output_type": "execute_result"
    }
   ],
   "source": [
    "impt['D_eff'].sort_values(ascending=True)"
   ]
  },
  {
   "cell_type": "code",
   "execution_count": 23,
   "metadata": {},
   "outputs": [
    {
     "data": {
      "text/plain": [
       "1446    2016-05-01\n",
       "1447    2016-08-04\n",
       "1448    2017-08-04\n",
       "814     2017-10-01\n",
       "23991   2017-11-01\n",
       "           ...    \n",
       "24713   2020-08-08\n",
       "24604   2020-09-16\n",
       "24667   2020-10-23\n",
       "24668   2020-10-23\n",
       "27334   2020-11-10\n",
       "Name: D_com, Length: 28398, dtype: datetime64[ns]"
      ]
     },
     "execution_count": 23,
     "metadata": {},
     "output_type": "execute_result"
    }
   ],
   "source": [
    "impt['D_com'].sort_values(ascending=True)"
   ]
  },
  {
   "cell_type": "code",
   "execution_count": 24,
   "metadata": {},
   "outputs": [
    {
     "data": {
      "text/plain": [
       "1446    2016-08-03\n",
       "1447    2017-08-03\n",
       "2200    2018-03-17\n",
       "1448    2018-08-03\n",
       "23991   2018-10-31\n",
       "           ...    \n",
       "24033   2022-01-22\n",
       "24031   2022-01-30\n",
       "23980   2022-02-22\n",
       "24029   2022-02-26\n",
       "23981   2022-03-01\n",
       "Name: D_exp, Length: 28398, dtype: datetime64[ns]"
      ]
     },
     "execution_count": 24,
     "metadata": {},
     "output_type": "execute_result"
    }
   ],
   "source": [
    "impt['D_exp'].sort_values(ascending=True)"
   ]
  },
  {
   "cell_type": "code",
   "execution_count": 25,
   "metadata": {},
   "outputs": [],
   "source": [
    "travel = impt[impt['lob']== '017-Travel']"
   ]
  },
  {
   "cell_type": "code",
   "execution_count": 26,
   "metadata": {},
   "outputs": [],
   "source": [
    "accident = impt[impt['lob']== '018-Personal Accident']"
   ]
  },
  {
   "cell_type": "code",
   "execution_count": 27,
   "metadata": {
    "scrolled": false
   },
   "outputs": [
    {
     "data": {
      "text/plain": [
       "(6222, 11)"
      ]
     },
     "execution_count": 27,
     "metadata": {},
     "output_type": "execute_result"
    }
   ],
   "source": [
    "travel.shape"
   ]
  },
  {
   "cell_type": "code",
   "execution_count": 28,
   "metadata": {},
   "outputs": [
    {
     "data": {
      "text/plain": [
       "(22176, 11)"
      ]
     },
     "execution_count": 28,
     "metadata": {},
     "output_type": "execute_result"
    }
   ],
   "source": [
    "accident.shape"
   ]
  },
  {
   "cell_type": "markdown",
   "metadata": {},
   "source": [
    "Summary of exploration:  \n",
    "- 3 months worth of transactions  \n",
    "- 2 types of LOB: Travel and PA\n",
    "- ENDO and CANC are the only negative GWP\n",
    "- Information utilised will be:\n",
    "    - Policy table:\n",
    "        - Policy Number\n",
    "        - LOB\n",
    "    - Premium Table:\n",
    "        - Transaction Type\n",
    "        - GWP\n",
    "        - YrM"
   ]
  },
  {
   "cell_type": "markdown",
   "metadata": {},
   "source": [
    "Deductions and Assumptions:  \n",
    "- GWP Cancelled will be a SUM of the GWP where TRANTYPE = CANC sorted by LOB and by Month\n",
    "- GWP Booked will be a SUM of the GWP where TRANTYPE != CANC sorted by LOB and by Month\n",
    "- Hence utilising all of the data available\n",
    "- All are correct and no Null\n",
    "- Year and Month will be extracted from the transaction date from the YrM\n",
    "- D_tran, D_eff, D_com, D_exp are unnecessary for this analysis"
   ]
  },
  {
   "cell_type": "markdown",
   "metadata": {},
   "source": [
    "Table will be in the below format:"
   ]
  },
  {
   "cell_type": "markdown",
   "metadata": {},
   "source": [
    "year|month|LOB|GWP Cancelled|GWP Booked\n",
    "---|---|---|---|---"
   ]
  },
  {
   "cell_type": "code",
   "execution_count": null,
   "metadata": {},
   "outputs": [],
   "source": []
  }
 ],
 "metadata": {
  "kernelspec": {
   "display_name": "Python 3",
   "language": "python",
   "name": "python3"
  },
  "language_info": {
   "codemirror_mode": {
    "name": "ipython",
    "version": 3
   },
   "file_extension": ".py",
   "mimetype": "text/x-python",
   "name": "python",
   "nbconvert_exporter": "python",
   "pygments_lexer": "ipython3",
   "version": "3.7.6"
  }
 },
 "nbformat": 4,
 "nbformat_minor": 4
}
