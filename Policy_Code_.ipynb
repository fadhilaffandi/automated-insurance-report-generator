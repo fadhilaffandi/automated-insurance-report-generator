{
 "cells": [
  {
   "cell_type": "markdown",
   "metadata": {},
   "source": [
    "## Problem Statement\n",
    "The aim is to provide a report of the following indicators: Gross Written Premium cancelled and Gross Written Premium booked. Both indicators will have to be broken down by month and line of business (LOB).\n",
    "\n",
    "Note that this report should be run automatically every end of the calendar month. You should not have to specify in the code which month to update: at every end of month, the report needs to show the current year figures (up to the current month) and last year for the same time period."
   ]
  },
  {
   "cell_type": "markdown",
   "metadata": {},
   "source": [
    "Summary:  \n",
    "- 3 months worth of transactions  \n",
    "- 2 types of LOB: Travel and PA\n",
    "- ENDO and CANC are the only negative GWP\n",
    "- Information utilised will be:\n",
    "    - Policy table:\n",
    "        - Policy Number\n",
    "        - LOB\n",
    "    - Premium Table:\n",
    "        - Transaction Type\n",
    "        - GWP\n",
    "        - YrM"
   ]
  },
  {
   "cell_type": "markdown",
   "metadata": {},
   "source": [
    "Deductions and Assumptions:  \n",
    "- GWP Cancelled will be a SUM of the GWP where TRANTYPE = CANC sorted by LOB and by Month\n",
    "- GWP Booked will be a SUM of the GWP where TRANTYPE != CANC sorted by LOB and by Month\n",
    "- Hence utilising all of the data available\n",
    "- All are correct and no Null\n",
    "- Year and Month will be extracted from the transaction date from the YrM\n",
    "- D_tran, D_eff, D_com, D_exp are unnecessary for this analysis"
   ]
  },
  {
   "cell_type": "markdown",
   "metadata": {},
   "source": [
    "Table will be in the below format:"
   ]
  },
  {
   "cell_type": "markdown",
   "metadata": {},
   "source": [
    "year|month|LOB|GWP Cancelled|GWP Booked\n",
    "---|---|---|---|---"
   ]
  },
  {
   "cell_type": "code",
   "execution_count": 1,
   "metadata": {},
   "outputs": [],
   "source": [
    "#importing libraries\n",
    "import pandas as pd\n",
    "import numpy as np\n",
    "from datetime import datetime"
   ]
  },
  {
   "cell_type": "code",
   "execution_count": 2,
   "metadata": {},
   "outputs": [
    {
     "name": "stdout",
     "output_type": "stream",
     "text": [
      "2019\n",
      "2020\n",
      "9\n"
     ]
    }
   ],
   "source": [
    "#acquiring the datetime now\n",
    "now = datetime.now()\n",
    "#acquiring the year now\n",
    "year_now = now.year\n",
    "#acquiring the month now\n",
    "mth_now = now.month\n",
    "#subtracting by one to get last year\n",
    "last_year = year_now - 1"
   ]
  },
  {
   "cell_type": "code",
   "execution_count": 3,
   "metadata": {},
   "outputs": [
    {
     "name": "stdout",
     "output_type": "stream",
     "text": [
      "202001\n",
      "201901\n",
      "202009\n",
      "201909\n"
     ]
    }
   ],
   "source": [
    "#since the date values are in int\n",
    "#we want to maniuplate them in such a way they present YrM from start of year to current month\n",
    "#for both this year and last year\n",
    "year_now_start = year_now * 100 + 1\n",
    "last_year_start = last_year * 100 + 1\n",
    "year_now_end = year_now * 100 + mth_now\n",
    "last_year_end = last_year * 100 + mth_now"
   ]
  },
  {
   "cell_type": "code",
   "execution_count": 4,
   "metadata": {},
   "outputs": [],
   "source": [
    "##importing the xlsx and reading the sheets into dataframes\n",
    "xls = pd.ExcelFile('PREMIUM_POLICY_DATA.xlsx')\n",
    "policy = pd.read_excel(xls, 'POLICY')\n",
    "premium = pd.read_excel(xls, 'PREMIUM')"
   ]
  },
  {
   "cell_type": "code",
   "execution_count": 5,
   "metadata": {},
   "outputs": [],
   "source": [
    "#acquiring the lob values from the policy table\n",
    "premium['lob'] = policy['lob']"
   ]
  },
  {
   "cell_type": "code",
   "execution_count": 6,
   "metadata": {},
   "outputs": [],
   "source": [
    "#acquiring only the important columns\n",
    "data = premium[['YrM','TRANTYPE', 'GWP', 'lob']]"
   ]
  },
  {
   "cell_type": "code",
   "execution_count": 8,
   "metadata": {},
   "outputs": [],
   "source": [
    "data = data.copy()"
   ]
  },
  {
   "cell_type": "code",
   "execution_count": 9,
   "metadata": {},
   "outputs": [],
   "source": [
    "#Creating a separate column to wrangle TRANTYPE\n",
    "data['TXN'] = data['TRANTYPE'].copy()"
   ]
  },
  {
   "cell_type": "code",
   "execution_count": 11,
   "metadata": {},
   "outputs": [],
   "source": [
    "#Replacing all non CANC transaction type as BOOKED\n",
    "data['TXN'] = data['TXN'].replace({'ENDO':'BOOKED', 'RNWL':'BOOKED', 'NWBS':'BOOKED', 'REIN':'BOOKED'})"
   ]
  },
  {
   "cell_type": "code",
   "execution_count": 15,
   "metadata": {},
   "outputs": [],
   "source": [
    "#filtering by the start of the year to current month\n",
    "data1 = data[(data['YrM']>=year_now_start ) & (data['YrM']<=year_now_end)]"
   ]
  },
  {
   "cell_type": "code",
   "execution_count": 16,
   "metadata": {},
   "outputs": [],
   "source": [
    "#filtering by the start of last year to current month\n",
    "data2 = data[(data['YrM']>=last_year_start ) & (data['YrM']<=last_year_end)]"
   ]
  },
  {
   "cell_type": "code",
   "execution_count": 17,
   "metadata": {},
   "outputs": [],
   "source": [
    "#merging these 2 fitlered dataframes\n",
    "data= pd.concat([data1, data2], axis=0, sort=False)\n",
    "data.reset_index(inplace=True)"
   ]
  },
  {
   "cell_type": "code",
   "execution_count": 19,
   "metadata": {},
   "outputs": [],
   "source": [
    "#creating an empty dataframe for our final table\n",
    "final_df = pd.DataFrame(columns= ['Year', 'Month','YrM', 'LOB', 'GWP Cancelled', 'GWP Booked'])"
   ]
  },
  {
   "cell_type": "code",
   "execution_count": 20,
   "metadata": {},
   "outputs": [
    {
     "data": {
      "text/plain": [
       "[202001, 202002]"
      ]
     },
     "execution_count": 20,
     "metadata": {},
     "output_type": "execute_result"
    }
   ],
   "source": [
    "#listing unique YrM values\n",
    "yearmonth = data['YrM'].unique().tolist()"
   ]
  },
  {
   "cell_type": "code",
   "execution_count": 21,
   "metadata": {},
   "outputs": [
    {
     "data": {
      "text/plain": [
       "['017-Travel', '018-Personal Accident']"
      ]
     },
     "execution_count": 21,
     "metadata": {},
     "output_type": "execute_result"
    }
   ],
   "source": [
    "#listing unique LOB values\n",
    "lobiz = data['lob'].unique().tolist()"
   ]
  },
  {
   "cell_type": "code",
   "execution_count": 22,
   "metadata": {},
   "outputs": [],
   "source": [
    "#entries for YrM\n",
    "YrM = sorted(yearmonth*len(lobiz))"
   ]
  },
  {
   "cell_type": "code",
   "execution_count": 24,
   "metadata": {},
   "outputs": [
    {
     "data": {
      "text/plain": [
       "['017-Travel', '018-Personal Accident', '017-Travel', '018-Personal Accident']"
      ]
     },
     "execution_count": 24,
     "metadata": {},
     "output_type": "execute_result"
    }
   ],
   "source": [
    "#entries for LOB\n",
    "LOB = lobiz*len(yearmonth)"
   ]
  },
  {
   "cell_type": "code",
   "execution_count": 25,
   "metadata": {},
   "outputs": [],
   "source": [
    "#assigning the values in our YrM and LOB columns\n",
    "final_df['YrM'] = YrM\n",
    "final_df['LOB'] = LOB"
   ]
  },
  {
   "cell_type": "code",
   "execution_count": 26,
   "metadata": {},
   "outputs": [
    {
     "name": "stderr",
     "output_type": "stream",
     "text": [
      "C:\\Users\\fadhil\\anaconda3\\lib\\site-packages\\ipykernel_launcher.py:2: SettingWithCopyWarning: \n",
      "A value is trying to be set on a copy of a slice from a DataFrame\n",
      "\n",
      "See the caveats in the documentation: https://pandas.pydata.org/pandas-docs/stable/user_guide/indexing.html#returning-a-view-versus-a-copy\n",
      "  \n",
      "C:\\Users\\fadhil\\anaconda3\\lib\\site-packages\\ipykernel_launcher.py:3: SettingWithCopyWarning: \n",
      "A value is trying to be set on a copy of a slice from a DataFrame\n",
      "\n",
      "See the caveats in the documentation: https://pandas.pydata.org/pandas-docs/stable/user_guide/indexing.html#returning-a-view-versus-a-copy\n",
      "  This is separate from the ipykernel package so we can avoid doing imports until\n"
     ]
    }
   ],
   "source": [
    "#for loop to impute the year and month separated from YrM\n",
    "for index, item in enumerate (final_df['YrM']):\n",
    "    final_df['Year'][index] = str(item)[0:4]\n",
    "    final_df['Month'][index] = str(item)[4:]"
   ]
  },
  {
   "cell_type": "code",
   "execution_count": 27,
   "metadata": {},
   "outputs": [],
   "source": [
    "#filling our null fields with a 0.0 float\n",
    "final_df.fillna(value=0.0, inplace=True)"
   ]
  },
  {
   "cell_type": "code",
   "execution_count": 29,
   "metadata": {},
   "outputs": [],
   "source": [
    "#defining function\n",
    "def gwp_calc(row):\n",
    "    year = str(row['YrM'])[0:4]  #getting the year from each row\n",
    "    month = str(row['YrM'])[4:]  #getting the month from each row\n",
    "    lob = row['lob']  #getting lob from each row\n",
    "    gwp_canc = 0  #empty variable for GWP Cancelled\n",
    "    gwp_booked = 0  #empty variable for GWP Booked\n",
    "    \n",
    "    if row['TXN']== 'CANC':  #condition for filter\n",
    "        gwp_canc = row['GWP']  #assinging value\n",
    "    elif row['TXN']== 'BOOKED':  #condition for filter\n",
    "        gwp_booked = row['GWP']  #assigning value\n",
    "    \n",
    "    #checking condition by row in final_df and assigning value    \n",
    "    current_gwp_cancelled = final_df[(final_df[\"Year\"]==year) & (final_df[\"Month\"]==month) & (final_df[\"LOB\"]==lob)][\"GWP Cancelled\"].values[0] \n",
    "    current_gwp_booked = final_df[(final_df[\"Year\"]==year) & (final_df[\"Month\"]==month) & (final_df[\"LOB\"]==lob)][\"GWP Booked\"].values[0]\n",
    "   \n",
    "     #checking condition by row in final_df and incrementing value\n",
    "    final_df.loc[(final_df[\"Year\"]== year) & (final_df[\"Month\"]== month) & (final_df[\"LOB\"]==lob),\"GWP Cancelled\"] =  current_gwp_cancelled + gwp_canc\n",
    "    final_df.loc[(final_df[\"Year\"]== year) & (final_df[\"Month\"]== month) & (final_df[\"LOB\"]==lob),\"GWP Booked\"] =  current_gwp_booked + gwp_booked\n"
   ]
  },
  {
   "cell_type": "code",
   "execution_count": 31,
   "metadata": {},
   "outputs": [],
   "source": [
    "#applying the function for every row in the data\n",
    "for i in list(range(len(data))):\n",
    "    gwp_calc(data.loc[i])"
   ]
  },
  {
   "cell_type": "code",
   "execution_count": 39,
   "metadata": {},
   "outputs": [],
   "source": [
    "final_df = final_df[['Year', 'Month', 'LOB', 'GWP Cancelled', 'GWP Booked']]"
   ]
  },
  {
   "cell_type": "code",
   "execution_count": 40,
   "metadata": {},
   "outputs": [],
   "source": [
    "#saving the final table to csv for management perusal\n",
    "final_df.to_csv('report.csv', index = False)"
   ]
  }
 ],
 "metadata": {
  "kernelspec": {
   "display_name": "Python 3",
   "language": "python",
   "name": "python3"
  },
  "language_info": {
   "codemirror_mode": {
    "name": "ipython",
    "version": 3
   },
   "file_extension": ".py",
   "mimetype": "text/x-python",
   "name": "python",
   "nbconvert_exporter": "python",
   "pygments_lexer": "ipython3",
   "version": "3.7.6"
  }
 },
 "nbformat": 4,
 "nbformat_minor": 4
}
